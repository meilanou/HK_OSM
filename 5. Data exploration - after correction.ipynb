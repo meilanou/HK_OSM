{
 "metadata": {
  "name": "",
  "signature": "sha256:f3e702d4b47d3515e668de9daa09506743a1996034362351fbe5d50006599be9"
 },
 "nbformat": 3,
 "nbformat_minor": 0,
 "worksheets": [
  {
   "cells": [
    {
     "cell_type": "code",
     "collapsed": false,
     "input": [
      "import pprint\n",
      "import pymongo"
     ],
     "language": "python",
     "metadata": {},
     "outputs": [],
     "prompt_number": 10
    },
    {
     "cell_type": "code",
     "collapsed": false,
     "input": [
      "\"\"\"\n",
      "Subcass PrettyPrinter to print UTF-8 characters\n",
      "\"\"\"\n",
      "class MyPrettyPrinter(pprint.PrettyPrinter):\n",
      "    def format(self, object, context, maxlevels, level):\n",
      "        if isinstance(object, unicode):\n",
      "            return (object.encode('utf8'), True, False)\n",
      "        return pprint.PrettyPrinter.format(self, object, context, maxlevels, level)"
     ],
     "language": "python",
     "metadata": {},
     "outputs": [],
     "prompt_number": 11
    },
    {
     "cell_type": "code",
     "collapsed": false,
     "input": [
      "pp = pprint.PrettyPrinter()\n",
      "mypp = MyPrettyPrinter()"
     ],
     "language": "python",
     "metadata": {},
     "outputs": [],
     "prompt_number": 12
    },
    {
     "cell_type": "code",
     "collapsed": false,
     "input": [
      "# MongoDB constants\n",
      "DATABASE_LOC = \"mongodb://127.0.0.1:27017\"\n",
      "DATABASE_NAME = \"hk_osm\"\n",
      "COLLECTION_HEADS = \"heads\"\n",
      "COLLECTION_ELEMS = \"elems\"\n",
      "COLLECTION_USERS = \"users\"\n",
      "KEY_CREATED = \"created\"\n",
      "KEY_LOC = \"loc\"\n",
      "# OSM-specific constants\n",
      "HONGKONG_OSM = \"hong-kong_china.osm\"\n",
      "TAG_BOUNDS = \"bounds\"\n",
      "TAG_NODE = \"node\"\n",
      "TAG_WAY = \"way\"\n",
      "TAG_RELATION = \"relation\"\n",
      "ELEMENTS_HEADER = [TAG_BOUNDS]\n",
      "ELEMENTS_CORE = [TAG_NODE, TAG_WAY, TAG_RELATION]\n",
      "ATTR_VERSION = \"version\"\n",
      "ARRT_CHANGESET = \"changeset\"\n",
      "ATTR_TIMESTAMP = \"timestamp\"\n",
      "ATTR_USER = \"user\"\n",
      "ATTR_UID = \"uid\"\n",
      "ATTR_LON = \"lon\"\n",
      "ATTR_LAT = \"lat\"\n",
      "ATTRIBUTES_CREATED = [ATTR_VERSION, ARRT_CHANGESET, ATTR_TIMESTAMP, ATTR_USER, ATTR_UID]\n",
      "ATTRIBUTES_LOC = [ATTR_LON, ATTR_LAT]"
     ],
     "language": "python",
     "metadata": {},
     "outputs": [],
     "prompt_number": 13
    },
    {
     "cell_type": "code",
     "collapsed": false,
     "input": [
      "\"\"\"\n",
      "Initialize connection, clear up user collections and return the database\n",
      "\"\"\"\n",
      "def init_database(loc, name):\n",
      "    from pymongo import MongoClient\n",
      "    client = MongoClient(loc)\n",
      "    \n",
      "    db = client[name]\n",
      "    pp.pprint(client[name])\n",
      "\n",
      "    return db"
     ],
     "language": "python",
     "metadata": {},
     "outputs": [],
     "prompt_number": 14
    },
    {
     "cell_type": "code",
     "collapsed": false,
     "input": [
      "db = init_database(DATABASE_LOC, DATABASE_NAME)"
     ],
     "language": "python",
     "metadata": {},
     "outputs": [
      {
       "output_type": "stream",
       "stream": "stdout",
       "text": [
        "Database(MongoClient('127.0.0.1', 27017), u'hk_osm')\n"
       ]
      }
     ],
     "prompt_number": 15
    },
    {
     "cell_type": "code",
     "collapsed": false,
     "input": [
      "\"\"\"\n",
      "Helper function to add/update hotel stats\n",
      "\"\"\"\n",
      "def add_hotel(hotel_stats, block, floor, name):\n",
      "    if block not in hotel_stats:\n",
      "        hotel_stats[block] = {\"count\": 0}\n",
      "    if floor not in hotel_stats[block]:\n",
      "        hotel_stats[block][floor] = {\"count\": 0, \"hotels\": []}\n",
      "    if name:\n",
      "        hotel_stats[block][\"count\"] += 1\n",
      "        hotel_stats[block][floor][\"count\"] += 1\n",
      "        hotel_stats[block][floor][\"hotels\"].append(name)"
     ],
     "language": "python",
     "metadata": {},
     "outputs": [],
     "prompt_number": 16
    },
    {
     "cell_type": "code",
     "collapsed": false,
     "input": [
      "def explore_chungking():\n",
      "    building = db[COLLECTION_ELEMS].find_one({\"tags.k\": \"name\", \"tags.v\": {\"$in\": [\"Chungking Mansion\", \"Chungking Mansions\", \"\u91cd\u6176\u5927\u5ec8\"]}})\n",
      "    #mypp.pprint(building)\n",
      "    # it's a way element, getting the nds the outline this complex\n",
      "    pipeline = [{\"$match\": {\"type\": \"node\", \"id\": {\"$in\": building[\"nds\"]}}},\n",
      "                {\"$group\": {\"_id\": \"nd\", \"locs\": {\"$push\": \"$loc\"}}}]\n",
      "    polygon = [i for i in db[COLLECTION_ELEMS].aggregate(pipeline)][0][\"locs\"]\n",
      "    # find possible touristic accommodations in the complex\n",
      "    cursor = db[COLLECTION_ELEMS].find({\"type\": \"node\", \n",
      "                                        \"tags.k\": \"tourism\", \n",
      "                                        \"tags.v\": {\"$in\": [\"apartment\", \"guest_house\", \"hostel\", \"hotel\", \"motel\"]}, \n",
      "                                        \"name\": {\"$exists\": 1}, # new dictionary item\n",
      "                                        \"addr\": {\"$exists\": 1}, # new dictionary item\n",
      "                                        \"loc\": {\"$geoWithin\": {\"$polygon\": polygon}}})\n",
      "    # convert to list for operation convenience\n",
      "    hotels = [i for i in cursor]   \n",
      "    hotel_stats = {}\n",
      "\n",
      "    for h in hotels:\n",
      "        add_hotel(hotel_stats, h[\"addr\"][\"block\"], h[\"addr\"][\"floor\"], h[\"name\"])\n",
      "\n",
      "    print \"Chungking Mansion has a total of {0} hotels\".format(len(hotels))\n",
      "    mypp.pprint(hotel_stats)\n",
      "    \n",
      "    return hotels"
     ],
     "language": "python",
     "metadata": {},
     "outputs": [],
     "prompt_number": 17
    },
    {
     "cell_type": "code",
     "collapsed": false,
     "input": [
      "chungking_hotels = explore_chungking()"
     ],
     "language": "python",
     "metadata": {},
     "outputs": [
      {
       "output_type": "stream",
       "stream": "stdout",
       "text": [
        "Chungking Mansion has a total of 56 hotels\n",
        "{A: {13: {'count': 2,\n",
        "          'hotels': [Ashoka Guesthouse, Capital Guesthouse]},\n",
        "     14: {'count': 4,\n",
        "          'hotels': [Four Season Guesthouse,\n",
        "                     Hawaii Guesthouse,\n",
        "                     Hollywood Guesthouse,\n",
        "                     Tokyo Guesthouse]},\n",
        "     15: {'count': 2, 'hotels': [Kyoto Guesthouse, Park Guesthouse]},\n",
        "     17: {'count': 1, 'hotels': [Sandhu New UK Hostel]},\n",
        "     3: {'count': 1, 'hotels': [Tai Wan Guesthouse]},\n",
        "     6: {'count': 1, 'hotels': [Longdon Guesthouse]},\n",
        "     'count': 11},\n",
        " B: {12: {'count': 2,\n",
        "          'hotels': [Hayatt Guesthouse, Hong Kong Guesthouse (12/F)]},\n",
        "     13: {'count': 2,\n",
        "          'hotels': [New Washington Guesthouse, Reliance Inn]},\n",
        "     15: {'count': 3,\n",
        "          'hotels': [Carlton Guesthouse,\n",
        "                     China Guesthouse,\n",
        "                     Cosmos Guesthouse]},\n",
        "     16: {'count': 3,\n",
        "          'hotels': [Crown Royal Guesthouse,\n",
        "                     New Carlton Guesthouse,\n",
        "                     Tom's Guesthouse]},\n",
        "     17: {'count': 2,\n",
        "          'hotels': [Happy Yeung Guesthouse,\n",
        "                     Traveller's Friendship Hostel]},\n",
        "     4,5: {'count': 1, 'hotels': [Chungking Guesthouse]},\n",
        "     7: {'count': 2,\n",
        "         'hotels': [Himalaya Guesthouse, New York Guesthouse]},\n",
        "     8: {'count': 2,\n",
        "         'hotels': [Beverly Guesthouse, Hollywood Guesthouse]},\n",
        "     'count': 17},\n",
        " C: {3: {'count': 1, 'hotels': [New Tajimahel Guesthouse]},\n",
        "     4: {'count': 2,\n",
        "         'hotels': [Maharaja Guesthouse, Ran Jeet Guesthouse]},\n",
        "     5: {'count': 1, 'hotels': [Safari Hotel (5/F)]},\n",
        "     6: {'count': 4,\n",
        "         'hotels': [Angel Guesthouse (6/F),\n",
        "                    Gloria Guesthouse,\n",
        "                    New Brother's Guesthouse,\n",
        "                    New Hong Kong Guesthouse]},\n",
        "     'count': 8},\n",
        " D: {13: {'count': 1, 'hotels': [New GuanZhou Guesthouse]},\n",
        "     4: {'count': 2, 'hotels': [Head Sun Guesthouse, King Guesthouse]},\n",
        "     5: {'count': 2,\n",
        "         'hotels': [Royal Plaza Inn, South East Asia Guesthouse]},\n",
        "     6: {'count': 2, 'hotels': [Germany Hostel, Holiday Guesthouse]},\n",
        "     7: {'count': 3,\n",
        "         'hotels': [City Guesthouse,\n",
        "                    Paris Guesthouse,\n",
        "                    Singh Guesthouse]},\n",
        "     8: {'count': 2, 'hotels': [Fortuna Guesthouse, Tokyo Hostel]},\n",
        "     9: {'count': 3,\n",
        "         'hotels': [Dipty A Guesthouse,\n",
        "                    New China Guesthouse,\n",
        "                    Prince Guesthouse]},\n",
        "     'count': 15},\n",
        " E: {10: {'count': 2,\n",
        "          'hotels': [Cynthia's Inn, Day and Night Guesthouse]},\n",
        "     11: {'count': 2, 'hotels': [Crystal Hostel, Hostel HK Group]},\n",
        "     9: {'count': 1, 'hotels': [Comfort Guesthouse]},\n",
        "     'count': 5}}\n"
       ]
      }
     ],
     "prompt_number": 18
    }
   ],
   "metadata": {}
  }
 ]
}