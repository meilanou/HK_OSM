{
 "metadata": {
  "name": "",
  "signature": "sha256:5c2fad5257ee52cfb96f805a4cb1c654ecbb43f8e890b3ce041a85b87f3ec2a3"
 },
 "nbformat": 3,
 "nbformat_minor": 0,
 "worksheets": [
  {
   "cells": [
    {
     "cell_type": "code",
     "collapsed": false,
     "input": [
      "# -*- coding: utf-8 -*-\n",
      "import pprint\n",
      "import pymongo"
     ],
     "language": "python",
     "metadata": {},
     "outputs": [],
     "prompt_number": 880
    },
    {
     "cell_type": "code",
     "collapsed": false,
     "input": [
      "\"\"\"\n",
      "Subcass PrettyPrinter to print UTF-8 characters\n",
      "\"\"\"\n",
      "class MyPrettyPrinter(pprint.PrettyPrinter):\n",
      "    def format(self, object, context, maxlevels, level):\n",
      "        if isinstance(object, unicode):\n",
      "            return (object.encode('utf8'), True, False)\n",
      "        return pprint.PrettyPrinter.format(self, object, context, maxlevels, level)"
     ],
     "language": "python",
     "metadata": {},
     "outputs": [],
     "prompt_number": 881
    },
    {
     "cell_type": "code",
     "collapsed": false,
     "input": [
      "pp = pprint.PrettyPrinter()\n",
      "mypp = MyPrettyPrinter()"
     ],
     "language": "python",
     "metadata": {},
     "outputs": [],
     "prompt_number": 882
    },
    {
     "cell_type": "code",
     "collapsed": false,
     "input": [
      "# MongoDB constants\n",
      "DATABASE_LOC = \"mongodb://127.0.0.1:27017\"\n",
      "DATABASE_NAME = \"hk_osm\"\n",
      "COLLECTION_HEADS = \"heads\"\n",
      "COLLECTION_ELEMS = \"elems\"\n",
      "COLLECTION_USERS = \"users\"\n",
      "KEY_CREATED = \"created\"\n",
      "KEY_LOC = \"loc\"\n",
      "# OSM-specific constants\n",
      "HONGKONG_OSM = \"hong-kong_china.osm\"\n",
      "TAG_BOUNDS = \"bounds\"\n",
      "TAG_NODE = \"node\"\n",
      "TAG_WAY = \"way\"\n",
      "TAG_RELATION = \"relation\"\n",
      "ELEMENTS_HEADER = [TAG_BOUNDS]\n",
      "ELEMENTS_CORE = [TAG_NODE, TAG_WAY, TAG_RELATION]\n",
      "ATTR_VERSION = \"version\"\n",
      "ARRT_CHANGESET = \"changeset\"\n",
      "ATTR_TIMESTAMP = \"timestamp\"\n",
      "ATTR_USER = \"user\"\n",
      "ATTR_UID = \"uid\"\n",
      "ATTR_LON = \"lon\"\n",
      "ATTR_LAT = \"lat\"\n",
      "ATTRIBUTES_CREATED = [ATTR_VERSION, ARRT_CHANGESET, ATTR_TIMESTAMP, ATTR_USER, ATTR_UID]\n",
      "ATTRIBUTES_LOC = [ATTR_LON, ATTR_LAT]"
     ],
     "language": "python",
     "metadata": {},
     "outputs": [],
     "prompt_number": 883
    },
    {
     "cell_type": "code",
     "collapsed": false,
     "input": [
      "\"\"\"\n",
      "Initialize connection, clear up user collections and return the database\n",
      "\"\"\"\n",
      "def init_database(loc, name):\n",
      "    from pymongo import MongoClient\n",
      "    client = MongoClient(loc)\n",
      "    \n",
      "    db = client[name]\n",
      "    pp.pprint(client[name])\n",
      "\n",
      "    return db"
     ],
     "language": "python",
     "metadata": {},
     "outputs": [],
     "prompt_number": 884
    },
    {
     "cell_type": "code",
     "collapsed": false,
     "input": [
      "db = init_database(DATABASE_LOC, DATABASE_NAME)"
     ],
     "language": "python",
     "metadata": {},
     "outputs": [
      {
       "output_type": "stream",
       "stream": "stdout",
       "text": [
        "Database(MongoClient('127.0.0.1', 27017), u'hk_osm')\n"
       ]
      }
     ],
     "prompt_number": 885
    },
    {
     "cell_type": "code",
     "collapsed": false,
     "input": [
      "def check_counts():\n",
      "    pp.pprint(\"Count of all elements: {0}\".format(db[COLLECTION_ELEMS].count()))\n",
      "    pp.pprint(\"Count of {0} elements: {1}\".format(TAG_NODE, db[COLLECTION_ELEMS].count({\"type\": TAG_NODE})))\n",
      "    pp.pprint(\"Count of {0} elements: {1}\".format(TAG_WAY, db[COLLECTION_ELEMS].count({\"type\": TAG_WAY})))\n",
      "    pp.pprint(\"Count of {0} elements: {1}\".format(TAG_RELATION, db[COLLECTION_ELEMS].count({\"type\": TAG_RELATION})))\n",
      "    pp.pprint(\"Count of unique {0}: {1}\".format(COLLECTION_USERS, db[COLLECTION_USERS].count()))\n",
      "    pipeline = [{\"$group\": {\"_id\": \"mock\", \"totalCount\": {\"$sum\": \"$count\"}}}]\n",
      "    pp.pprint(\"Count of all elements by users: {0}\".format(db[COLLECTION_USERS].aggregate(pipeline).next()[\"totalCount\"]))\n",
      "    \n",
      "check_counts()"
     ],
     "language": "python",
     "metadata": {},
     "outputs": [
      {
       "output_type": "stream",
       "stream": "stdout",
       "text": [
        "'Count of all elements: 2234235'\n",
        "'Count of node elements: 2030982'"
       ]
      },
      {
       "output_type": "stream",
       "stream": "stdout",
       "text": [
        "\n",
        "'Count of way elements: 197633'"
       ]
      },
      {
       "output_type": "stream",
       "stream": "stdout",
       "text": [
        "\n",
        "'Count of relation elements: 5620'"
       ]
      },
      {
       "output_type": "stream",
       "stream": "stdout",
       "text": [
        "\n",
        "'Count of unique users: 1159'\n",
        "'Count of all elements by users: 2234235'\n"
       ]
      }
     ],
     "prompt_number": 886
    },
    {
     "cell_type": "code",
     "collapsed": false,
     "input": [
      "def check_features():\n",
      "    limit = 10\n",
      "    for elem_type in ELEMENTS_CORE:\n",
      "        pipeline = [{\"$match\": {\"type\": elem_type, \"tags\": {\"$exists\": 1}}},\n",
      "                    {\"$project\": {\"tags\": 1}},\n",
      "                    {\"$unwind\": \"$tags\"},\n",
      "                    {\"$group\": {\"_id\": \"$tags.k\", \"count\": {\"$sum\": 1}}},\n",
      "                    {\"$sort\": {\"count\": -1}},\n",
      "                    {\"$limit\": limit}]\n",
      "        features = [i for i in db[COLLECTION_ELEMS].aggregate(pipeline)]\n",
      "        print \"Top {0} features of {1} elements.\".format(limit, elem_type)\n",
      "        mypp.pprint(features)\n",
      "\n",
      "check_features()"
     ],
     "language": "python",
     "metadata": {},
     "outputs": [
      {
       "output_type": "stream",
       "stream": "stdout",
       "text": [
        "Top 10 features of node elements.\n",
        "[{_id: name, count: 20523},\n",
        " {_id: highway, count: 14705},\n",
        " {_id: power, count: 11037},\n",
        " {_id: name:en, count: 8702},\n",
        " {_id: name:zh, count: 8614},\n",
        " {_id: amenity, count: 5890},\n",
        " {_id: place, count: 5414},\n",
        " {_id: crossing, count: 4429},\n",
        " {_id: ref:hkbus, count: 3441},\n",
        " {_id: barrier, count: 2576}]\n",
        "Top 10 features of way elements."
       ]
      },
      {
       "output_type": "stream",
       "stream": "stdout",
       "text": [
        "\n",
        "[{_id: highway, count: 119065},\n",
        " {_id: name, count: 50611},\n",
        " {_id: oneway, count: 43693},\n",
        " {_id: name:zh, count: 34068},\n",
        " {_id: name:en, count: 33475},\n",
        " {_id: building, count: 33086},\n",
        " {_id: layer, count: 20339},\n",
        " {_id: bridge, count: 13957},\n",
        " {_id: building:levels, count: 11858},\n",
        " {_id: source, count: 11089}]\n",
        "Top 10 features of relation elements."
       ]
      },
      {
       "output_type": "stream",
       "stream": "stdout",
       "text": [
        "\n",
        "[{_id: type, count: 5390},\n",
        " {_id: restriction, count: 3584},\n",
        " {_id: name, count: 708},\n",
        " {_id: natural, count: 508},\n",
        " {_id: route, count: 398},\n",
        " {_id: source, count: 395},\n",
        " {_id: ref, count: 368},\n",
        " {_id: name:en, count: 352},\n",
        " {_id: operator, count: 332},\n",
        " {_id: name:zh, count: 309}]\n"
       ]
      }
     ],
     "prompt_number": 887
    }
   ],
   "metadata": {}
  }
 ]
}