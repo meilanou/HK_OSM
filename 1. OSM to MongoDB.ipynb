{
 "metadata": {
  "name": "",
  "signature": "sha256:caec01aa92b654c71f3c88da96794d413e313b0854bace9c92adc591c64a5916"
 },
 "nbformat": 3,
 "nbformat_minor": 0,
 "worksheets": [
  {
   "cells": [
    {
     "cell_type": "code",
     "collapsed": false,
     "input": [
      "import xml.etree.ElementTree as et\n",
      "import re\n",
      "import pprint"
     ],
     "language": "python",
     "metadata": {},
     "outputs": [],
     "prompt_number": 1
    },
    {
     "cell_type": "code",
     "collapsed": false,
     "input": [
      "pp = pprint.PrettyPrinter(indent=4)"
     ],
     "language": "python",
     "metadata": {},
     "outputs": [],
     "prompt_number": 2
    },
    {
     "cell_type": "code",
     "collapsed": false,
     "input": [
      "# MongoDB constants\n",
      "DATABASE_LOC = \"mongodb://127.0.0.1:27017\"\n",
      "DATABASE_NAME = \"hk_osm\"\n",
      "COLLECTION_HEADS = \"heads\"\n",
      "COLLECTION_ELEMS = \"elems\"\n",
      "COLLECTION_USERS = \"users\"\n",
      "KEY_CREATED = \"created\"\n",
      "KEY_LOC = \"loc\"\n",
      "# OSM-specific constants\n",
      "HONGKONG_OSM = \"hong-kong_china.osm\"\n",
      "TAG_BOUNDS = \"bounds\"\n",
      "TAG_NODE = \"node\"\n",
      "TAG_WAY = \"way\"\n",
      "TAG_RELATION = \"relation\"\n",
      "ELEMENTS_HEADER = [TAG_BOUNDS]\n",
      "ELEMENTS_CORE = [TAG_NODE, TAG_WAY, TAG_RELATION]\n",
      "ATTR_VERSION = \"version\"\n",
      "ARRT_CHANGESET = \"changeset\"\n",
      "ATTR_TIMESTAMP = \"timestamp\"\n",
      "ATTR_USER = \"user\"\n",
      "ATTR_UID = \"uid\"\n",
      "ATTR_LON = \"lon\"\n",
      "ATTR_LAT = \"lat\"\n",
      "ATTRIBUTES_CREATED = [ATTR_VERSION, ARRT_CHANGESET, ATTR_TIMESTAMP, ATTR_USER, ATTR_UID]\n",
      "ATTRIBUTES_LOC = [ATTR_LON, ATTR_LAT]"
     ],
     "language": "python",
     "metadata": {},
     "outputs": [],
     "prompt_number": 3
    },
    {
     "cell_type": "code",
     "collapsed": false,
     "input": [
      "\"\"\"\n",
      "Initialize connection, clear up existing non-system collections and return the database\n",
      "\"\"\"\n",
      "def init_database(loc, name):\n",
      "    from pymongo import MongoClient\n",
      "    client = MongoClient(loc)\n",
      "    \n",
      "    db = client[name]\n",
      "    pp.pprint(client[name])\n",
      "    \n",
      "    collections = db.collection_names(include_system_collections=False)    \n",
      "    for col in collections:\n",
      "        db.drop_collection(col)\n",
      "\n",
      "    return db"
     ],
     "language": "python",
     "metadata": {},
     "outputs": [],
     "prompt_number": 4
    },
    {
     "cell_type": "code",
     "collapsed": false,
     "input": [
      "\"\"\"\n",
      "Insert documents into the specified collection of the database\n",
      "\"\"\"\n",
      "def insert_data(data, db, collection):\n",
      "    if data:\n",
      "        db[collection].insert_many(data, ordered=False)"
     ],
     "language": "python",
     "metadata": {},
     "outputs": [],
     "prompt_number": 5
    },
    {
     "cell_type": "code",
     "collapsed": false,
     "input": [
      "\"\"\"\n",
      "Group attributes related to creation and location. Otherwise added as indiviual dictionary items. \n",
      "\"\"\"\n",
      "def shape_attributes(element, document, hasLoc=False):\n",
      "    attibutes = element.items()\n",
      "    for name, value in attibutes:\n",
      "        if name in ATTRIBUTES_CREATED:\n",
      "            if KEY_CREATED not in document:\n",
      "                document[KEY_CREATED] = {}\n",
      "            document[KEY_CREATED][name] = value\n",
      "        else:\n",
      "            if hasLoc: # transform to 2d for MongoDB\n",
      "                if KEY_LOC not in document:\n",
      "                    document[KEY_LOC] = [None, None]\n",
      "                if name == ATTR_LON:\n",
      "                    document[KEY_LOC][0] = float(value)\n",
      "                elif name == ATTR_LAT:\n",
      "                    document[KEY_LOC][1] = float(value)\n",
      "                else:\n",
      "                    document[name] = value\n",
      "            else:\n",
      "                document[name] = value"
     ],
     "language": "python",
     "metadata": {},
     "outputs": [],
     "prompt_number": 6
    },
    {
     "cell_type": "code",
     "collapsed": false,
     "input": [
      "\"\"\"\n",
      "tag elements have keys and values. Extract and add these to a dictionary.\n",
      "\"\"\"\n",
      "def shape_tags(element, document):\n",
      "    # I'm not using iter or iterfind for checking convenience, and there is a limited number of tags\n",
      "    tags = element.findall(\"tag\")\n",
      "    if tags:\n",
      "        document[\"tags\"] = []\n",
      "        for tag in tags:\n",
      "            #tag_key = tag.get(\"k\")\n",
      "            #m = REGX_PROBLEMCHARS.search(tag_key)\n",
      "            #if m: # skip if key is invalid for MongoDB\n",
      "                #continue\n",
      "            document[\"tags\"].append({\"k\": tag.get(\"k\"), \"v\": tag.get(\"v\")})"
     ],
     "language": "python",
     "metadata": {},
     "outputs": [],
     "prompt_number": 7
    },
    {
     "cell_type": "code",
     "collapsed": false,
     "input": [
      "\"\"\"\n",
      "nd elements contain references to nodes. Extract and add these to an ordered list.\n",
      "\"\"\"\n",
      "def shape_nds(element, document):\n",
      "    # I'm not using iter or iterfind for checking convenience, and there is a limited number of nd tags\n",
      "    nds = element.findall(\"nd\")\n",
      "    if nds:\n",
      "        document[\"nds\"] = []\n",
      "        for nd in nds:\n",
      "            document[\"nds\"].append(nd.get(\"ref\"))"
     ],
     "language": "python",
     "metadata": {},
     "outputs": [],
     "prompt_number": 8
    },
    {
     "cell_type": "code",
     "collapsed": false,
     "input": [
      "\"\"\"\n",
      "member elements are an ordered list of nodes, ways and/or relations. Extract and add these to an ordered list.\n",
      "\"\"\"\n",
      "def shape_members(element, document):\n",
      "    # I'm not using iter or iterfind for checking convenience, and there is a limited number of member tags\n",
      "    members = element.findall(\"member\")\n",
      "    if members:\n",
      "        document[\"members\"] = []\n",
      "        for mem in members:\n",
      "            document[\"members\"].append({\"type\": mem.get(\"type\"), \"ref\": mem.get(\"ref\"), \"role\": mem.get(\"role\")})"
     ],
     "language": "python",
     "metadata": {},
     "outputs": [],
     "prompt_number": 9
    },
    {
     "cell_type": "code",
     "collapsed": false,
     "input": [
      "\"\"\"\n",
      "Extract user and aggregated info from elements. And save those in users collection for future convenience.\n",
      "\"\"\"\n",
      "def aggregate_users(db):\n",
      "    pipeline = [{\"$group\": {\"_id\": {\"user\": \"$created.user\", \"uid\": \"$created.uid\"}, \n",
      "                            \"count\": {\"$sum\": 1}, \"changesets\": {\"$addToSet\": \"$created.changeset\"},\n",
      "                            \"last\": {\"$max\": \"$created.timestamp\"}, \"first\": {\"$min\": \"$created.timestamp\" }}}]\n",
      "    users = [i for i in db[COLLECTION_ELEMS].aggregate(pipeline)]\n",
      "    insert_data(users, db, COLLECTION_USERS)\n",
      "    print \"{} users inserted\".format(len(users))"
     ],
     "language": "python",
     "metadata": {},
     "outputs": [],
     "prompt_number": 10
    },
    {
     "cell_type": "code",
     "collapsed": false,
     "input": [
      "\"\"\"\n",
      "Diffrent from the sample data structure that extracts addresses specifically, here I'm preserving as much data as possible into MongoDB.\n",
      "\"\"\"\n",
      "def import_elements(xmlfile):\n",
      "    # get an iterator\n",
      "    context = et.iterparse(xmlfile, events=(\"start\",))\n",
      "    # get the root element\n",
      "    event, root = context.next()\n",
      "\n",
      "    db = init_database(DATABASE_LOC, DATABASE_NAME)\n",
      "    \n",
      "    headers = []\n",
      "    elements = []\n",
      "    \n",
      "    for event, elem in context:\n",
      "        if event == \"start\":\n",
      "            tag = elem.tag\n",
      "            doc = {\"type\": tag}\n",
      "            \n",
      "            if tag in ELEMENTS_HEADER:\n",
      "                shape_attributes(elem, doc)\n",
      "                headers.append(doc)\n",
      "            elif tag in ELEMENTS_CORE:\n",
      "                # node has longitude and latitude\n",
      "                shape_attributes(elem, doc, hasLoc=(tag == TAG_NODE))\n",
      "                shape_tags(elem, doc)\n",
      "                # way and relation have other sub-elements\n",
      "                if tag == TAG_WAY:\n",
      "                    shape_nds(elem, doc)\n",
      "                elif tag == TAG_RELATION:\n",
      "                    shape_members(elem, doc)\n",
      "                elements.append(doc)\n",
      "        # free up memory resources for element tree\n",
      "        root.clear()\n",
      "\n",
      "    insert_data(headers, db, COLLECTION_HEADS)\n",
      "    print \"{} headers inserted\".format(len(headers))\n",
      "    insert_data(elements, db, COLLECTION_ELEMS)\n",
      "    print \"{} elements inserted\".format(len(elements))\n",
      "    # Extract user info here as all the collections are cleared at this step. So that at the next step we can focus on analysis only.\n",
      "    aggregate_users(db)\n",
      "    \n",
      "import_elements(HONGKONG_OSM)"
     ],
     "language": "python",
     "metadata": {},
     "outputs": [
      {
       "output_type": "stream",
       "stream": "stdout",
       "text": [
        "Database(MongoClient('127.0.0.1', 27017), u'hk_osm')\n",
        "1 headers inserted"
       ]
      },
      {
       "output_type": "stream",
       "stream": "stdout",
       "text": [
        "\n",
        "2239509 elements inserted"
       ]
      },
      {
       "output_type": "stream",
       "stream": "stdout",
       "text": [
        "\n",
        "1155 users inserted"
       ]
      },
      {
       "output_type": "stream",
       "stream": "stdout",
       "text": [
        "\n"
       ]
      }
     ],
     "prompt_number": 11
    }
   ],
   "metadata": {}
  }
 ]
}