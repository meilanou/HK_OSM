{
 "metadata": {
  "name": "",
  "signature": "sha256:8e5fbedfd642c94adc96df91304c3ea103b0c1fbd03826107e6f075eebc00c93"
 },
 "nbformat": 3,
 "nbformat_minor": 0,
 "worksheets": [
  {
   "cells": [
    {
     "cell_type": "code",
     "collapsed": false,
     "input": [
      "# -*- coding: utf-8 -*-\n",
      "import pprint\n",
      "import pymongo"
     ],
     "language": "python",
     "metadata": {},
     "outputs": [],
     "prompt_number": 33
    },
    {
     "cell_type": "code",
     "collapsed": false,
     "input": [
      "\"\"\"\n",
      "Subcass PrettyPrinter to print UTF-8 characters\n",
      "\"\"\"\n",
      "class MyPrettyPrinter(pprint.PrettyPrinter):\n",
      "    def format(self, object, context, maxlevels, level):\n",
      "        if isinstance(object, unicode):\n",
      "            return (object.encode('utf8'), True, False)\n",
      "        return pprint.PrettyPrinter.format(self, object, context, maxlevels, level)"
     ],
     "language": "python",
     "metadata": {},
     "outputs": [],
     "prompt_number": 34
    },
    {
     "cell_type": "code",
     "collapsed": false,
     "input": [
      "pp = pprint.PrettyPrinter()\n",
      "mypp = MyPrettyPrinter()"
     ],
     "language": "python",
     "metadata": {},
     "outputs": [],
     "prompt_number": 35
    },
    {
     "cell_type": "code",
     "collapsed": false,
     "input": [
      "# MongoDB constants\n",
      "DATABASE_LOC = \"mongodb://127.0.0.1:27017\"\n",
      "DATABASE_NAME = \"hk_osm\"\n",
      "COLLECTION_HEADS = \"heads\"\n",
      "COLLECTION_ELEMS = \"elems\"\n",
      "COLLECTION_USERS = \"users\"\n",
      "KEY_CREATED = \"created\"\n",
      "KEY_LOC = \"loc\"\n",
      "# OSM-specific constants\n",
      "HONGKONG_OSM = \"hong-kong_china.osm\"\n",
      "TAG_BOUNDS = \"bounds\"\n",
      "TAG_NODE = \"node\"\n",
      "TAG_WAY = \"way\"\n",
      "TAG_RELATION = \"relation\"\n",
      "ELEMENTS_HEADER = [TAG_BOUNDS]\n",
      "ELEMENTS_CORE = [TAG_NODE, TAG_WAY, TAG_RELATION]\n",
      "ATTR_VERSION = \"version\"\n",
      "ARRT_CHANGESET = \"changeset\"\n",
      "ATTR_TIMESTAMP = \"timestamp\"\n",
      "ATTR_USER = \"user\"\n",
      "ATTR_UID = \"uid\"\n",
      "ATTR_LON = \"lon\"\n",
      "ATTR_LAT = \"lat\"\n",
      "ATTRIBUTES_CREATED = [ATTR_VERSION, ARRT_CHANGESET, ATTR_TIMESTAMP, ATTR_USER, ATTR_UID]\n",
      "ATTRIBUTES_LOC = [ATTR_LON, ATTR_LAT]"
     ],
     "language": "python",
     "metadata": {},
     "outputs": [],
     "prompt_number": 36
    },
    {
     "cell_type": "code",
     "collapsed": false,
     "input": [
      "\"\"\"\n",
      "Initialize connection, display user collections and return the database\n",
      "\"\"\"\n",
      "def init_database(loc, name):\n",
      "    from pymongo import MongoClient\n",
      "    client = MongoClient(loc)\n",
      "    \n",
      "    db = client[name]\n",
      "    pp.pprint(client[name])\n",
      "\n",
      "    # print database statistics\n",
      "    mypp.pprint(db.command(\"dbstats\"))\n",
      "    # print collection statistics\n",
      "    collections = db.collection_names(include_system_collections=False)    \n",
      "    for col in collections:\n",
      "        print \"Collection {}:\".format(col)\n",
      "        mypp.pprint(db.command(\"collstats\", col))\n",
      "\n",
      "    return db"
     ],
     "language": "python",
     "metadata": {},
     "outputs": [],
     "prompt_number": 37
    },
    {
     "cell_type": "code",
     "collapsed": false,
     "input": [
      "db = init_database(DATABASE_LOC, DATABASE_NAME)"
     ],
     "language": "python",
     "metadata": {},
     "outputs": [
      {
       "output_type": "stream",
       "stream": "stdout",
       "text": [
        "Database(MongoClient('127.0.0.1', 27017), u'hk_osm')\n",
        "{avgObjSize: 293.4609472591965,\n",
        " collections: 5,\n",
        " dataFileVersion: {major: 4, minor: 22},\n",
        " dataSize: 657550608.0,\n",
        " db: hk_osm,\n",
        " extentFreeList: {num: 0, totalSize: 0},\n",
        " fileSize: 2080374784.0,\n",
        " indexSize: 72807280.0,\n",
        " indexes: 3,\n",
        " nsSizeMB: 16,\n",
        " numExtents: 25,\n",
        " objects: 2240675,\n",
        " ok: 1.0,\n",
        " storageSize: 860254208.0}\n",
        "Collection elems:\n",
        "{avgObjSize: 293,\n",
        " capped: False,\n",
        " count: 2239509,\n",
        " indexDetails: {},\n",
        " indexSizes: {_id_: 72668288},\n",
        " lastExtentSize: 227803136.0,\n",
        " nindexes: 1,\n",
        " ns: hk_osm.elems,\n",
        " numExtents: 17,\n",
        " ok: 1.0,\n",
        " paddingFactor: 1.0,\n",
        " paddingFactorNote: paddingFactor is unused and unmaintained in 3.0. It remains hard coded to 1.0 for compatibility only.,\n",
        " size: 656761520,\n",
        " storageSize: 857440256,\n",
        " totalIndexSize: 72668288,\n",
        " userFlags: 1}\n",
        "Collection heads:\n",
        "{avgObjSize: 240,\n",
        " capped: False,\n",
        " count: 1,\n",
        " indexDetails: {},\n",
        " indexSizes: {_id_: 8176},\n",
        " lastExtentSize: 8192.0,\n",
        " nindexes: 1,\n",
        " ns: hk_osm.heads,\n",
        " numExtents: 1,\n",
        " ok: 1.0,\n",
        " paddingFactor: 1.0,\n",
        " paddingFactorNote: paddingFactor is unused and unmaintained in 3.0. It remains hard coded to 1.0 for compatibility only.,\n",
        " size: 240,\n",
        " storageSize: 8192,\n",
        " totalIndexSize: 8176,\n",
        " userFlags: 1}\n",
        "Collection users:\n",
        "{avgObjSize: 682,\n",
        " capped: False,\n",
        " count: 1155,\n",
        " indexDetails: {},\n",
        " indexSizes: {_id_: 130816},\n",
        " lastExtentSize: 2097152.0,\n",
        " nindexes: 1,\n",
        " ns: hk_osm.users,\n",
        " numExtents: 5,\n",
        " ok: 1.0,\n",
        " paddingFactor: 1.0,\n",
        " paddingFactorNote: paddingFactor is unused and unmaintained in 3.0. It remains hard coded to 1.0 for compatibility only.,\n",
        " size: 788176,\n",
        " storageSize: 2793472,\n",
        " totalIndexSize: 130816,\n",
        " userFlags: 1}\n"
       ]
      }
     ],
     "prompt_number": 38
    },
    {
     "cell_type": "code",
     "collapsed": false,
     "input": [
      "\"\"\"\n",
      "Check the counts of documents of collections in MongoDB. See id the numbers match.\n",
      "\"\"\"\n",
      "def check_counts():\n",
      "    pp.pprint(\"Count of all elements: {0}\".format(db[COLLECTION_ELEMS].count()))\n",
      "    pp.pprint(\"Count of {0} elements: {1}\".format(TAG_NODE, db[COLLECTION_ELEMS].count({\"type\": TAG_NODE})))\n",
      "    pp.pprint(\"Count of {0} elements: {1}\".format(TAG_WAY, db[COLLECTION_ELEMS].count({\"type\": TAG_WAY})))\n",
      "    pp.pprint(\"Count of {0} elements: {1}\".format(TAG_RELATION, db[COLLECTION_ELEMS].count({\"type\": TAG_RELATION})))\n",
      "    pp.pprint(\"Count of unique {0}: {1}\".format(COLLECTION_USERS, db[COLLECTION_USERS].count()))\n",
      "    pipeline = [{\"$group\": {\"_id\": \"mock\", \"totalCount\": {\"$sum\": \"$count\"}}}]\n",
      "    pp.pprint(\"Count of all elements by users: {0}\".format(db[COLLECTION_USERS].aggregate(pipeline).next()[\"totalCount\"]))\n",
      "    \n",
      "check_counts()"
     ],
     "language": "python",
     "metadata": {},
     "outputs": [
      {
       "output_type": "stream",
       "stream": "stdout",
       "text": [
        "'Count of all elements: 2239509'\n",
        "'Count of node elements: 2035874'"
       ]
      },
      {
       "output_type": "stream",
       "stream": "stdout",
       "text": [
        "\n",
        "'Count of way elements: 198007'"
       ]
      },
      {
       "output_type": "stream",
       "stream": "stdout",
       "text": [
        "\n",
        "'Count of relation elements: 5628'"
       ]
      },
      {
       "output_type": "stream",
       "stream": "stdout",
       "text": [
        "\n",
        "'Count of unique users: 1155'\n",
        "'Count of all elements by users: 2239509'\n"
       ]
      }
     ],
     "prompt_number": 39
    },
    {
     "cell_type": "code",
     "collapsed": false,
     "input": [
      "\"\"\"\n",
      "Check the most commonly used custom feature keys for each repeated element type\n",
      "\"\"\"\n",
      "def check_top_features():\n",
      "    limit = 10\n",
      "    for elem_type in ELEMENTS_CORE:\n",
      "        pipeline = [{\"$match\": {\"type\": elem_type, \"tags\": {\"$exists\": 1}}},\n",
      "                    {\"$project\": {\"tags\": 1}},\n",
      "                    {\"$unwind\": \"$tags\"},\n",
      "                    {\"$group\": {\"_id\": \"$tags.k\", \"count\": {\"$sum\": 1}}},\n",
      "                    {\"$sort\": {\"count\": -1}},\n",
      "                    {\"$limit\": limit}]\n",
      "        features = [i for i in db[COLLECTION_ELEMS].aggregate(pipeline)]\n",
      "        print \"Top {0} features of {1} elements.\".format(limit, elem_type)\n",
      "        mypp.pprint(features)\n",
      "\n",
      "check_top_features()"
     ],
     "language": "python",
     "metadata": {},
     "outputs": [
      {
       "output_type": "stream",
       "stream": "stdout",
       "text": [
        "Top 10 features of node elements.\n",
        "[{_id: name, count: 20680},\n",
        " {_id: highway, count: 14839},\n",
        " {_id: power, count: 11035},\n",
        " {_id: name:en, count: 8719},\n",
        " {_id: name:zh, count: 8625},\n",
        " {_id: amenity, count: 5881},\n",
        " {_id: place, count: 5421},\n",
        " {_id: crossing, count: 4429},\n",
        " {_id: ref:hkbus, count: 3437},\n",
        " {_id: barrier, count: 2567}]\n",
        "Top 10 features of way elements."
       ]
      },
      {
       "output_type": "stream",
       "stream": "stdout",
       "text": [
        "\n",
        "[{_id: highway, count: 119355},\n",
        " {_id: name, count: 50726},\n",
        " {_id: oneway, count: 43762},\n",
        " {_id: name:zh, count: 34075},\n",
        " {_id: name:en, count: 33461},\n",
        " {_id: building, count: 33115},\n",
        " {_id: layer, count: 20357},\n",
        " {_id: bridge, count: 13961},\n",
        " {_id: building:levels, count: 11844},\n",
        " {_id: source, count: 11096}]\n",
        "Top 10 features of relation elements."
       ]
      },
      {
       "output_type": "stream",
       "stream": "stdout",
       "text": [
        "\n",
        "[{_id: type, count: 5400},\n",
        " {_id: restriction, count: 3586},\n",
        " {_id: name, count: 715},\n",
        " {_id: natural, count: 509},\n",
        " {_id: route, count: 404},\n",
        " {_id: source, count: 393},\n",
        " {_id: ref, count: 376},\n",
        " {_id: name:en, count: 351},\n",
        " {_id: operator, count: 335},\n",
        " {_id: name:zh, count: 308}]\n"
       ]
      }
     ],
     "prompt_number": 40
    }
   ],
   "metadata": {}
  }
 ]
}